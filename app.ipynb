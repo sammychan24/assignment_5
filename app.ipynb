{
 "cells": [
  {
   "cell_type": "code",
   "execution_count": null,
   "metadata": {},
   "outputs": [
    {
     "name": "stdout",
     "output_type": "stream",
     "text": [
      " * Serving Flask app \"__main__\" (lazy loading)\n",
      " * Environment: production\n",
      "\u001b[31m   WARNING: This is a development server. Do not use it in a production deployment.\u001b[0m\n",
      "\u001b[2m   Use a production WSGI server instead.\u001b[0m\n",
      " * Debug mode: off\n"
     ]
    },
    {
     "name": "stderr",
     "output_type": "stream",
     "text": [
      " * Running on http://localhost:1124/ (Press CTRL+C to quit)\n",
      "127.0.0.1 - - [18/Oct/2021 23:48:09] \"\u001b[37mGET / HTTP/1.1\u001b[0m\" 200 -\n"
     ]
    }
   ],
   "source": [
    "################################################################################################################\n",
    "\n",
    "# EXTERNAL MODULES TO BE USED\n",
    "\n",
    "################################################################################################################\n",
    "\n",
    "from flask import Flask, render_template, redirect, url_for\n",
    "import pandas as pd\n",
    "\n",
    "app = Flask(__name__)\n",
    "    \n",
    "################################################################################################################\n",
    "\n",
    "# WEB ROUTES FOR CONTROLLING ACCESS TO TEMPLATE VIEWS\n",
    "\n",
    "################################################################################################################\n",
    "\n",
    "@app.route(\"/\")\n",
    "def index():\n",
    "    return render_template('index.html')\n",
    "\n",
    "@app.route(\"/inspirations\")\n",
    "def inspirations():\n",
    "    return render_template('inspirations.html')\n",
    "\n",
    "\n",
    "@app.route(\"/books\")\n",
    "def books():\n",
    "        lists = [{'Book': 'Self Love Poetry', 'Author': 'Melody Godfred', 'Review': '4.8/5.0', 'Price': '$13.49'},\n",
    "        {'Book': 'Unconditional',  'Author': 'Linda Villines', 'Review': '5.0/5.0', 'Price': '$12.99'},\n",
    "        {'Book': 'Good Vibes, Good Life',  'Author': 'Vex King', 'Review': '4.7/5.0', 'Price': '$13.49'}]\n",
    "    \n",
    "        #df = pd.DataFrame(lists)\n",
    "        #df.to_csv('books.csv',mode='w',index=False)\n",
    "\n",
    "\n",
    "        return render_template('books.html', entries = lists)\n",
    "\n",
    "\n",
    "\n",
    "\n",
    "@app.route(\"/instructions\")\n",
    "def instructions():\n",
    "    return render_template('instructions.html')\n",
    "\n",
    "@app.route(\"/about\")\n",
    "def about():\n",
    "    return render_template('about.html')\n",
    "\n",
    "@app.route(\"/join\")\n",
    "def join():\n",
    "    return render_template('join.html')\n",
    "\n",
    "################################################################################################################\n",
    "\n",
    "# ERROR HANDLERS\n",
    "\n",
    "################################################################################################################\n",
    "\n",
    "@app.errorhandler(404)\n",
    "def page_not_found(e):\n",
    "    return render_template('404.html'), 404\n",
    "\n",
    "\n",
    "################################################################################################################\n",
    "\n",
    "# APPLICATION TEST RUN AT PORT 9003\n",
    "\n",
    "################################################################################################################\n",
    "\n",
    "if __name__ == '__main__':\n",
    "    app.run('localhost', 1124)"
   ]
  },
  {
   "cell_type": "code",
   "execution_count": null,
   "metadata": {},
   "outputs": [],
   "source": []
  },
  {
   "cell_type": "code",
   "execution_count": null,
   "metadata": {},
   "outputs": [],
   "source": []
  }
 ],
 "metadata": {
  "kernelspec": {
   "display_name": "Python 3",
   "language": "python",
   "name": "python3"
  },
  "language_info": {
   "codemirror_mode": {
    "name": "ipython",
    "version": 3
   },
   "file_extension": ".py",
   "mimetype": "text/x-python",
   "name": "python",
   "nbconvert_exporter": "python",
   "pygments_lexer": "ipython3",
   "version": "3.8.8"
  }
 },
 "nbformat": 4,
 "nbformat_minor": 2
}
